{
  "nbformat": 4,
  "nbformat_minor": 0,
  "metadata": {
    "colab": {
      "provenance": [],
      "authorship_tag": "ABX9TyPjfoWo7ECYrheK82MzPhNz",
      "include_colab_link": true
    },
    "kernelspec": {
      "name": "python3",
      "display_name": "Python 3"
    },
    "language_info": {
      "name": "python"
    }
  },
  "cells": [
    {
      "cell_type": "markdown",
      "metadata": {
        "id": "view-in-github",
        "colab_type": "text"
      },
      "source": [
        "<a href=\"https://colab.research.google.com/github/aharshit123456/Numerical-Methods/blob/main/System_of_Linear_Equations.ipynb\" target=\"_parent\"><img src=\"https://colab.research.google.com/assets/colab-badge.svg\" alt=\"Open In Colab\"/></a>"
      ]
    },
    {
      "cell_type": "markdown",
      "source": [
        "# Methods to solve Systems of Linear Equations\n",
        "\n",
        "## Direct methods\n",
        "\n",
        "- Gauss Elimination\n",
        "- GE with Partial Pivoting\n",
        "- LU Decomposition\n",
        "\n",
        "## Iterative Methods\n",
        "\n",
        "- Gauss-Siedel Method\n",
        "- Jacobi Iteration"
      ],
      "metadata": {
        "id": "ft7CnUue1hPV"
      }
    },
    {
      "cell_type": "code",
      "execution_count": 4,
      "metadata": {
        "id": "QYRToLLFsPon",
        "colab": {
          "base_uri": "https://localhost:8080/"
        },
        "outputId": "905e65bc-499f-45dc-c9c3-9820c7a9fa5a"
      },
      "outputs": [
        {
          "output_type": "stream",
          "name": "stdout",
          "text": [
            "The intial augmented matrix is: \n",
            "[[ 1.  1.  3.  1.]\n",
            " [ 0.  1.  3.  3.]\n",
            " [-1.  3.  0.  5.]]\n",
            "Solving for the upper-triangular matrix:\n",
            "[[ 1.  1.  3.  1.]\n",
            " [ 0.  1.  3.  3.]\n",
            " [-1.  3.  0.  5.]]\n",
            "[[1. 1. 3. 1.]\n",
            " [0. 1. 3. 3.]\n",
            " [0. 4. 3. 6.]]\n",
            "[[ 1.  1.  3.  1.]\n",
            " [ 0.  1.  3.  3.]\n",
            " [ 0.  0. -9. -6.]]\n",
            "The following x-vector matrix solves the above augmented matrix:\n",
            "x0 is 1.0\n",
            "x1 is 3.0\n",
            "x2 is 0.6666666666666666\n"
          ]
        }
      ],
      "source": [
        "import numpy as np\n",
        "\n",
        "def gauss_elimination(a_matrix, b_matrix):\n",
        "\n",
        "  # Adding some contingencies\n",
        "  if a_matrix.shape[0] != a_matrix.shape[1]:\n",
        "    print(\"Error: Square matrix not given !\")\n",
        "    return\n",
        "  if b_matrix.shape[1] > 1 or b_matrix.shape[0] != a_matrix.shape[0]:\n",
        "    print(\"Error: Constant vector incorrectly sized\")\n",
        "    return\n",
        "\n",
        "  # Intialization of necessary variables\n",
        "  n = len(b_matrix)\n",
        "  m = n-1\n",
        "  i = 0\n",
        "  j = i - 1\n",
        "  x = np.zeros(n)\n",
        "  new_line = \"\\n\"\n",
        "\n",
        "  # Create our augmented matrix\n",
        "  augmented_matrix = np.concatenate((a_matrix,b_matrix),axis = 1, dtype = float )\n",
        "  print(f\"The intial augmented matrix is: {new_line}{augmented_matrix}\")\n",
        "  print(\"Solving for the upper-triangular matrix:\")\n",
        "\n",
        "  # Applying GE:\n",
        "  while i < n:\n",
        "    if augmented_matrix[i][i] == 0.0:\n",
        "      print(\"Divide by zero error\")\n",
        "      return\n",
        "\n",
        "    for j in range(i+1, n):\n",
        "      scaling_factor = augmented_matrix[j][i] / augmented_matrix[i][i]\n",
        "      augmented_matrix[j] = augmented_matrix[j] - (scaling_factor * augmented_matrix[i])\n",
        "      print(augmented_matrix)\n",
        "\n",
        "    i = i + 1\n",
        "\n",
        "  # Backward Substitution:\n",
        "  x[m] = augmented_matrix[m][n] / augmented_matrix[m][m]\n",
        "\n",
        "  for k in range(n-2,-1,-1):\n",
        "    x[k] = augmented_matrix[k][n]\n",
        "\n",
        "    for j in range(k+1, n):\n",
        "      x[k] = x[k]/augmented_matrix[k][k]\n",
        "\n",
        "\n",
        "  # Displaying solution\n",
        "  print(f\"The following x-vector matrix solves the above augmented matrix:\")\n",
        "  for answer in range(n):\n",
        "    print(f\"x{answer} is {x[answer]}\")\n",
        "\n",
        "\n",
        "\n",
        "var_mat = np.array( [[1,1,3], [0,1, 3], [-1,3,0]])\n",
        "const_mat = np.array([[1],[3],[5]])\n",
        "\n",
        "gauss_elimination(var_mat,const_mat)"
      ]
    }
  ]
}